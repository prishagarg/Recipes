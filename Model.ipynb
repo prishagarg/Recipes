{
 "cells": [
  {
   "cell_type": "code",
   "execution_count": 1,
   "id": "5bdd53fe-236f-4598-b141-ca6635865bcd",
   "metadata": {},
   "outputs": [
    {
     "name": "stdout",
     "output_type": "stream",
     "text": [
      "Requirement already satisfied: rank-bm25 in /system/conda/miniconda3/envs/cloudspace/lib/python3.10/site-packages (0.2.2)\n",
      "Requirement already satisfied: numpy in /system/conda/miniconda3/envs/cloudspace/lib/python3.10/site-packages (from rank-bm25) (1.26.4)\n",
      "\n",
      "\u001b[1m[\u001b[0m\u001b[34;49mnotice\u001b[0m\u001b[1;39;49m]\u001b[0m\u001b[39;49m A new release of pip is available: \u001b[0m\u001b[31;49m24.3.1\u001b[0m\u001b[39;49m -> \u001b[0m\u001b[32;49m25.0.1\u001b[0m\n",
      "\u001b[1m[\u001b[0m\u001b[34;49mnotice\u001b[0m\u001b[1;39;49m]\u001b[0m\u001b[39;49m To update, run: \u001b[0m\u001b[32;49mpip install --upgrade pip\u001b[0m\n",
      "Note: you may need to restart the kernel to use updated packages.\n"
     ]
    }
   ],
   "source": [
    "pip install rank-bm25"
   ]
  },
  {
   "cell_type": "code",
   "execution_count": 2,
   "id": "926778b4-ea61-41c4-b1e9-45e27263f603",
   "metadata": {},
   "outputs": [],
   "source": [
    "from rank_bm25 import BM25Plus\n",
    "import pandas as pd"
   ]
  },
  {
   "cell_type": "code",
   "execution_count": 3,
   "id": "f6159ff6-43a1-43d0-ac44-b7cdd13a62e2",
   "metadata": {},
   "outputs": [],
   "source": [
    "data = pd.read_csv(\"processed_recipes.csv\")"
   ]
  },
  {
   "cell_type": "code",
   "execution_count": 4,
   "id": "6c974786-0768-4c06-b7e1-eec77d9d043b",
   "metadata": {},
   "outputs": [
    {
     "data": {
      "text/plain": [
       "(522413, 27)"
      ]
     },
     "execution_count": 4,
     "metadata": {},
     "output_type": "execute_result"
    }
   ],
   "source": [
    "data.shape"
   ]
  },
  {
   "cell_type": "code",
   "execution_count": 5,
   "id": "a2ba98b7-6014-49d6-bc1b-cbb810f4bdd6",
   "metadata": {},
   "outputs": [
    {
     "data": {
      "text/html": [
       "<div>\n",
       "<style scoped>\n",
       "    .dataframe tbody tr th:only-of-type {\n",
       "        vertical-align: middle;\n",
       "    }\n",
       "\n",
       "    .dataframe tbody tr th {\n",
       "        vertical-align: top;\n",
       "    }\n",
       "\n",
       "    .dataframe thead th {\n",
       "        text-align: right;\n",
       "    }\n",
       "</style>\n",
       "<table border=\"1\" class=\"dataframe\">\n",
       "  <thead>\n",
       "    <tr style=\"text-align: right;\">\n",
       "      <th></th>\n",
       "      <th>RecipeId</th>\n",
       "      <th>Name</th>\n",
       "      <th>AuthorId</th>\n",
       "      <th>AuthorName</th>\n",
       "      <th>CookTime</th>\n",
       "      <th>PrepTime</th>\n",
       "      <th>TotalTime</th>\n",
       "      <th>Description</th>\n",
       "      <th>Images</th>\n",
       "      <th>RecipeCategory</th>\n",
       "      <th>...</th>\n",
       "      <th>SaturatedFatContent</th>\n",
       "      <th>CholesterolContent</th>\n",
       "      <th>SodiumContent</th>\n",
       "      <th>CarbohydrateContent</th>\n",
       "      <th>FiberContent</th>\n",
       "      <th>SugarContent</th>\n",
       "      <th>ProteinContent</th>\n",
       "      <th>RecipeServings</th>\n",
       "      <th>RecipeYield</th>\n",
       "      <th>RecipeInstructions</th>\n",
       "    </tr>\n",
       "  </thead>\n",
       "  <tbody>\n",
       "    <tr>\n",
       "      <th>0</th>\n",
       "      <td>38</td>\n",
       "      <td>Low-Fat Berry Blue Frozen Dessert</td>\n",
       "      <td>1533</td>\n",
       "      <td>Dancer</td>\n",
       "      <td>24h</td>\n",
       "      <td>45m</td>\n",
       "      <td>24h 45m</td>\n",
       "      <td>Make and share this Low-Fat Berry Blue Frozen ...</td>\n",
       "      <td>c(\"https://img.sndimg.com/food/image/upload/w_...</td>\n",
       "      <td>Frozen Desserts</td>\n",
       "      <td>...</td>\n",
       "      <td>1.3</td>\n",
       "      <td>8.0</td>\n",
       "      <td>29.8</td>\n",
       "      <td>37.1</td>\n",
       "      <td>3.6</td>\n",
       "      <td>30.2</td>\n",
       "      <td>3.2</td>\n",
       "      <td>4</td>\n",
       "      <td>Not available</td>\n",
       "      <td>c(\"Toss 2 cups berries with sugar.\", \"Let stan...</td>\n",
       "    </tr>\n",
       "    <tr>\n",
       "      <th>1</th>\n",
       "      <td>39</td>\n",
       "      <td>Biryani</td>\n",
       "      <td>1567</td>\n",
       "      <td>elly9812</td>\n",
       "      <td>25m</td>\n",
       "      <td>4h</td>\n",
       "      <td>4h 25m</td>\n",
       "      <td>Make and share this Biryani recipe from Food.com.</td>\n",
       "      <td>c(\"https://img.sndimg.com/food/image/upload/w_...</td>\n",
       "      <td>Chicken Breast</td>\n",
       "      <td>...</td>\n",
       "      <td>16.6</td>\n",
       "      <td>372.8</td>\n",
       "      <td>368.4</td>\n",
       "      <td>84.4</td>\n",
       "      <td>9.0</td>\n",
       "      <td>20.4</td>\n",
       "      <td>63.4</td>\n",
       "      <td>6</td>\n",
       "      <td>Not available</td>\n",
       "      <td>c(\"Soak saffron in warm milk for 5 minutes and...</td>\n",
       "    </tr>\n",
       "    <tr>\n",
       "      <th>2</th>\n",
       "      <td>40</td>\n",
       "      <td>Best Lemonade</td>\n",
       "      <td>1566</td>\n",
       "      <td>Stephen Little</td>\n",
       "      <td>5m</td>\n",
       "      <td>30m</td>\n",
       "      <td>35m</td>\n",
       "      <td>This is from one of my  first Good House Keepi...</td>\n",
       "      <td>c(\"https://img.sndimg.com/food/image/upload/w_...</td>\n",
       "      <td>Beverages</td>\n",
       "      <td>...</td>\n",
       "      <td>0.0</td>\n",
       "      <td>0.0</td>\n",
       "      <td>1.8</td>\n",
       "      <td>81.5</td>\n",
       "      <td>0.4</td>\n",
       "      <td>77.2</td>\n",
       "      <td>0.3</td>\n",
       "      <td>4</td>\n",
       "      <td>Not available</td>\n",
       "      <td>c(\"Into a 1 quart Jar with tight fitting lid, ...</td>\n",
       "    </tr>\n",
       "    <tr>\n",
       "      <th>3</th>\n",
       "      <td>41</td>\n",
       "      <td>Carina's Tofu-Vegetable Kebabs</td>\n",
       "      <td>1586</td>\n",
       "      <td>Cyclopz</td>\n",
       "      <td>20m</td>\n",
       "      <td>24h</td>\n",
       "      <td>24h 20m</td>\n",
       "      <td>This dish is best prepared a day in advance to...</td>\n",
       "      <td>c(\"https://img.sndimg.com/food/image/upload/w_...</td>\n",
       "      <td>Soy/Tofu</td>\n",
       "      <td>...</td>\n",
       "      <td>3.8</td>\n",
       "      <td>0.0</td>\n",
       "      <td>1558.6</td>\n",
       "      <td>64.2</td>\n",
       "      <td>17.3</td>\n",
       "      <td>32.1</td>\n",
       "      <td>29.3</td>\n",
       "      <td>2</td>\n",
       "      <td>4 kebabs</td>\n",
       "      <td>c(\"Drain the tofu, carefully squeezing out exc...</td>\n",
       "    </tr>\n",
       "    <tr>\n",
       "      <th>4</th>\n",
       "      <td>42</td>\n",
       "      <td>Cabbage Soup</td>\n",
       "      <td>1538</td>\n",
       "      <td>Duckie067</td>\n",
       "      <td>30m</td>\n",
       "      <td>20m</td>\n",
       "      <td>50m</td>\n",
       "      <td>Make and share this Cabbage Soup recipe from F...</td>\n",
       "      <td>\"https://img.sndimg.com/food/image/upload/w_55...</td>\n",
       "      <td>Vegetable</td>\n",
       "      <td>...</td>\n",
       "      <td>0.1</td>\n",
       "      <td>0.0</td>\n",
       "      <td>959.3</td>\n",
       "      <td>25.1</td>\n",
       "      <td>4.8</td>\n",
       "      <td>17.7</td>\n",
       "      <td>4.3</td>\n",
       "      <td>4</td>\n",
       "      <td>Not available</td>\n",
       "      <td>c(\"Mix everything together and bring to a boil...</td>\n",
       "    </tr>\n",
       "  </tbody>\n",
       "</table>\n",
       "<p>5 rows × 27 columns</p>\n",
       "</div>"
      ],
      "text/plain": [
       "   RecipeId                               Name  AuthorId      AuthorName  \\\n",
       "0        38  Low-Fat Berry Blue Frozen Dessert      1533          Dancer   \n",
       "1        39                            Biryani      1567        elly9812   \n",
       "2        40                      Best Lemonade      1566  Stephen Little   \n",
       "3        41     Carina's Tofu-Vegetable Kebabs      1586         Cyclopz   \n",
       "4        42                       Cabbage Soup      1538       Duckie067   \n",
       "\n",
       "  CookTime PrepTime TotalTime  \\\n",
       "0      24h      45m   24h 45m   \n",
       "1      25m       4h    4h 25m   \n",
       "2       5m      30m       35m   \n",
       "3      20m      24h   24h 20m   \n",
       "4      30m      20m       50m   \n",
       "\n",
       "                                         Description  \\\n",
       "0  Make and share this Low-Fat Berry Blue Frozen ...   \n",
       "1  Make and share this Biryani recipe from Food.com.   \n",
       "2  This is from one of my  first Good House Keepi...   \n",
       "3  This dish is best prepared a day in advance to...   \n",
       "4  Make and share this Cabbage Soup recipe from F...   \n",
       "\n",
       "                                              Images   RecipeCategory  ...  \\\n",
       "0  c(\"https://img.sndimg.com/food/image/upload/w_...  Frozen Desserts  ...   \n",
       "1  c(\"https://img.sndimg.com/food/image/upload/w_...   Chicken Breast  ...   \n",
       "2  c(\"https://img.sndimg.com/food/image/upload/w_...        Beverages  ...   \n",
       "3  c(\"https://img.sndimg.com/food/image/upload/w_...         Soy/Tofu  ...   \n",
       "4  \"https://img.sndimg.com/food/image/upload/w_55...        Vegetable  ...   \n",
       "\n",
       "  SaturatedFatContent CholesterolContent SodiumContent CarbohydrateContent  \\\n",
       "0                 1.3                8.0          29.8                37.1   \n",
       "1                16.6              372.8         368.4                84.4   \n",
       "2                 0.0                0.0           1.8                81.5   \n",
       "3                 3.8                0.0        1558.6                64.2   \n",
       "4                 0.1                0.0         959.3                25.1   \n",
       "\n",
       "  FiberContent  SugarContent  ProteinContent  RecipeServings    RecipeYield  \\\n",
       "0          3.6          30.2             3.2               4  Not available   \n",
       "1          9.0          20.4            63.4               6  Not available   \n",
       "2          0.4          77.2             0.3               4  Not available   \n",
       "3         17.3          32.1            29.3               2       4 kebabs   \n",
       "4          4.8          17.7             4.3               4  Not available   \n",
       "\n",
       "                                  RecipeInstructions  \n",
       "0  c(\"Toss 2 cups berries with sugar.\", \"Let stan...  \n",
       "1  c(\"Soak saffron in warm milk for 5 minutes and...  \n",
       "2  c(\"Into a 1 quart Jar with tight fitting lid, ...  \n",
       "3  c(\"Drain the tofu, carefully squeezing out exc...  \n",
       "4  c(\"Mix everything together and bring to a boil...  \n",
       "\n",
       "[5 rows x 27 columns]"
      ]
     },
     "execution_count": 5,
     "metadata": {},
     "output_type": "execute_result"
    }
   ],
   "source": [
    "data.head()\n"
   ]
  },
  {
   "cell_type": "code",
   "execution_count": 6,
   "id": "ef4c6dc4-683f-4efc-93f0-d4756ddab3f8",
   "metadata": {},
   "outputs": [
    {
     "name": "stdout",
     "output_type": "stream",
     "text": [
      "Index(['RecipeId', 'Name', 'AuthorId', 'AuthorName', 'CookTime', 'PrepTime',\n",
      "       'TotalTime', 'Description', 'Images', 'RecipeCategory', 'Keywords',\n",
      "       'RecipeIngredientQuantities', 'RecipeIngredientParts',\n",
      "       'AggregatedRating', 'ReviewCount', 'Calories', 'FatContent',\n",
      "       'SaturatedFatContent', 'CholesterolContent', 'SodiumContent',\n",
      "       'CarbohydrateContent', 'FiberContent', 'SugarContent', 'ProteinContent',\n",
      "       'RecipeServings', 'RecipeYield', 'RecipeInstructions'],\n",
      "      dtype='object')\n"
     ]
    }
   ],
   "source": [
    "print(data.columns)"
   ]
  },
  {
   "cell_type": "code",
   "execution_count": 8,
   "id": "e32b4124-a55d-4d53-9a31-1bafb313300d",
   "metadata": {},
   "outputs": [],
   "source": [
    "corpus = [recipe.split() for recipe in data[['RecipeInstructions', 'Description', 'RecipeCategory', 'Keywords']].astype(str).agg(' '.join, axis=1)]\n"
   ]
  },
  {
   "cell_type": "code",
   "execution_count": 9,
   "id": "b73c16d7-9c83-4132-b975-22889368292c",
   "metadata": {},
   "outputs": [],
   "source": [
    "bm25 = BM25Plus(corpus)"
   ]
  },
  {
   "cell_type": "code",
   "execution_count": 10,
   "id": "cfddd529-bfb3-4c00-8796-182cf76b49e0",
   "metadata": {},
   "outputs": [
    {
     "name": "stdout",
     "output_type": "stream",
     "text": [
      "Requirement already satisfied: tabulate in /system/conda/miniconda3/envs/cloudspace/lib/python3.10/site-packages (0.9.0)\n",
      "\n",
      "\u001b[1m[\u001b[0m\u001b[34;49mnotice\u001b[0m\u001b[1;39;49m]\u001b[0m\u001b[39;49m A new release of pip is available: \u001b[0m\u001b[31;49m24.3.1\u001b[0m\u001b[39;49m -> \u001b[0m\u001b[32;49m25.0.1\u001b[0m\n",
      "\u001b[1m[\u001b[0m\u001b[34;49mnotice\u001b[0m\u001b[1;39;49m]\u001b[0m\u001b[39;49m To update, run: \u001b[0m\u001b[32;49mpip install --upgrade pip\u001b[0m\n",
      "Note: you may need to restart the kernel to use updated packages.\n"
     ]
    }
   ],
   "source": [
    "pip install tabulate"
   ]
  },
  {
   "cell_type": "code",
   "execution_count": 21,
   "id": "23954952-64f8-4785-b3f8-f4021efca869",
   "metadata": {},
   "outputs": [],
   "source": [
    "from tabulate import tabulate\n",
    "def search_recipes(query, top_n=10):\n",
    "    # Tokenize the query\n",
    "    tokenized_query = query.split()\n",
    "    # Get scores for all documents\n",
    "    scores = bm25.get_scores(tokenized_query)\n",
    "    # Get top N results\n",
    "    top_n_indices = scores.argsort()[-top_n:][::-1]\n",
    "    # Display the top N recipes with their nutritional info\n",
    "    results = data.iloc[top_n_indices]\n",
    "    table = tabulate(results[['Name', 'RecipeInstructions']], headers='keys', tablefmt='pretty')\n",
    "    print(table)"
   ]
  },
  {
   "cell_type": "code",
   "execution_count": 22,
   "id": "062e5b63-cd6d-41df-8692-62136264bc2d",
   "metadata": {},
   "outputs": [
    {
     "name": "stdout",
     "output_type": "stream",
     "text": [
      "+--------+--------------------------------------------------------+-------------------------------------------------------------------------------------------------------------------------------------------------------------------------------------------------------------------------------------------------------------------------------------------------------------------------------------------------------------------------------------------------------------------------------------------------------------------------------------------------------------------------------------------------------------------------------+\n",
      "|        |                          Name                          |                                                                                                                                                                                                                                                                              RecipeInstructions                                                                                                                                                                                                                                                                               |\n",
      "+--------+--------------------------------------------------------+-------------------------------------------------------------------------------------------------------------------------------------------------------------------------------------------------------------------------------------------------------------------------------------------------------------------------------------------------------------------------------------------------------------------------------------------------------------------------------------------------------------------------------------------------------------------------------+\n",
      "| 510117 |                  Mexican Jumping Bean                  |                                                                                                                                                                                      c(\"add all beans together.\", \"add red and green bell pepper.\", \"add red onion.\", \"add all ingridents after cilantro in bowl and whisk.\", \"toss dressing with beans and veggies.\", \"add cilantro.\")                                                                                                                                                                                       |\n",
      "| 308170 |              Vegan Mexican Hot Chocolate               |                                                                                                                                               c(\"In a small saucepan, whisk together the cocoa powder, sugar, cinnamon, cayenne, and salt and then whisk in the soy milk.\", \"Place over medium heat and bring to a boil. Remove from the heat and whisk in the vanilla.\", \"Divide the mixture between two cups and serve hot.\")                                                                                                                                               |\n",
      "| 110852 |         Easy Slow Cooked Vegetarian Taco Soup          |                                                                                                                                                                                    c(\"Combine all ingredients in slow cooker.\", \"Simmer for three or more hours.\", \"Serve with grated cheese, tortilla chips, extra fresh cilantro and diced onions, shredded cabbage or diced radishes.\")                                                                                                                                                                                    |\n",
      "| 218366 |         Bree's Vegan Mexican Rice and Veggies          |                                                                                                               c(\"In a frying pan melt margarine.\", \"Add rice and stir over high heat until rice is browned.\", \"Once rice has browned add water and bring to boil.\", \"Reduce heat to medium high and let rice absorb most of the water.\", \"Add tomato sauce and cumin.\", \"Cook until rice is tender.\", \"Add veggies and cook until completely heated through.\")                                                                                                                |\n",
      "| 509160 |           Vegan Friendly Mexican Street Corn           |                                                                                              c(\"Drizzle olive oil on the ears of corn and brush to coat. Season with salt and paprika.\", \"Broil 3-4 minutes on each side, turning 3-4 minutes until lightly browned and some of the kernels begin to char.\", \"Mix the “mayo” by combining the yogurt, chipotle, and lime juice, seasoning to taste.\", \"Drizzle mayo onto the “grilled” corn and garnish with cilantro. Enjoy!\")                                                                                               |\n",
      "| 516285 | Sandwich With Mexican Tofu Spread and Grilled Zucchini |                     c(\"Ingredients.\", \"1 zucchini.\", \"olive oil.\", \"sea salt.\", \"Mexican Tofu Spread.\", \"1 loaf of bread.\", \"chilli flakes (optional) or chive (optional).\", \"Preparations.\", \"1. Preheat grill or frying pan to hot.\", \"2. Slice zucchini into thin circles. Brush one side of each strip with a little oil.\", \"3. Lay the zucchini slices, oil side down, on the hot surface. Cook for 2 minutes on each side until done. Sprinkle with sea salt.\", \"4. Slice the bread, spread Mexican Tofu Spread, and layer the zucchini on top.\",                       |\n",
      "|        |                                                        |                                                                                                                                                                                                           \"6. Add herbs if using, chilli flakes or chive.\", \"6. Top with other slice or leave open.\", \"You can buy tasty Tofu Spread here https://tofuspread.com.\")                                                                                                                                                                                                           |\n",
      "| 215565 |          Green Chilies Stuffed With Frijoles           | c(\"First roast and peel the poblano peppers.\", \"Next:\", \"Preheat oven to 350°F\", \"Wear rubber gloves. Take a pepper and slice down the one side.  Do this to each pepper [see why you need the stem?] Now carefully remove the stem and the seeds.  Keep the pepper intact.\", \"Now mix the beans with the scallions and stuff the pepper with 2 tbsp heaping of the bean mix.\", \"Place in a greased 2 quart dish.  Top with the shredded cheese if you desire.\", \"Bake for 15 minutes or untl heated thru.  Top with some Red Chili sauce or other favorite Mexican sauce.\",  |\n",
      "|        |                                                        |                                                                                                                                                                                                                                                             \"For the Vegan option, use a Vegan shredded cheese.\")                                                                                                                                                                                                                                                             |\n",
      "| 214497 |            Mexican Chocolate Popcorn Shake             |                                                                                                        c(\"Mix.\", \"Shake over popcorn whenever you make some! (Freshly air popped will cause the mix to stick, and will keep the fat content low, though it is a bit dry.  Still a healthy option, oil-popped (microwaved) popcorn will stick better and be moister.  Feel free to add butter as u wish).\", \"Eat! (I like to use chopsticks to keep my hands clean.).\")                                                                                                        |\n",
      "| 440422 |                  White Chilli - Vegan                  |                                     c(\"Heat oil in a large saucepan over medium-high heat. Saute onion and garlic for 5 minutes or until onion is translucent. Add 'chicken' and saute until heated through.\", \"Stir in the broth, jalapenos, cumin, oregano, dried coriander, and cayenne pepper. Reduce heat, and simmer for 15 minutes.\", \"Stir in the beans, and simmer for 5 more minutes, using your mixing spoon to smoosh some of the beans (this will help to thicken to chili). Garnish with green onion and fresh coriander.\")                                     |\n",
      "| 106319 |               Holy Moly Great Guacamole!               |                                                             c(\"Cut the avocados in half and remove pits.\", \"Using a teaspoon, scoop out pulp into a bowl.\", \"Mash the pulp with a fork or potato masher to your preference of chunkiness/smoothness (we prefer it chunky).\", \"With a spoon, mix in the fresh pico de gallo and remaining ingredients.\", \"Serve with warm tortilla chips and an ice cold beer or margarita, and your favorite Mexican meal (tacos, enchiladas, fajitas, chile rellenos). Enjoy!\")                                                              |\n",
      "+--------+--------------------------------------------------------+-------------------------------------------------------------------------------------------------------------------------------------------------------------------------------------------------------------------------------------------------------------------------------------------------------------------------------------------------------------------------------------------------------------------------------------------------------------------------------------------------------------------------------------------------------------------------------+\n"
     ]
    }
   ],
   "source": [
    "query = \"Vegan Mexican\"\n",
    "results = search_recipes(query)\n",
    "results"
   ]
  },
  {
   "cell_type": "code",
   "execution_count": 23,
   "id": "4109870d-4b85-4aa6-b9a5-6338e69d79ca",
   "metadata": {},
   "outputs": [
    {
     "name": "stdout",
     "output_type": "stream",
     "text": [
      "+--------+-------------------------------------------------+-----------------------------------------------------------------------------------------------------------------------------------------------------------------------------------------------------------------------------------------------------------------------------------------------------------------------------------------------------------------------------------------------------------------------------------------------------------------------------------------------------------------------------------------------------------------------------------------+\n",
      "|        |                      Name                       |                                                                                                                                                                                                                                                                                   RecipeInstructions                                                                                                                                                                                                                                                                                    |\n",
      "+--------+-------------------------------------------------+-----------------------------------------------------------------------------------------------------------------------------------------------------------------------------------------------------------------------------------------------------------------------------------------------------------------------------------------------------------------------------------------------------------------------------------------------------------------------------------------------------------------------------------------------------------------------------------------+\n",
      "| 403452 |               Easy Paneer Makhani               |                        c(\"Bring tomato sauce to a simmer over medium heat, and blend in chopped onions, cream cheese, butter, and salt and pepper.\", \"Once onions are tender, add chilli powder and garam masala. Adjust amounts to taste. Garam masala is a potent spice, however it is not hot. For extra spiciness increase the amount of chilli powder.\", \"Reduce heat and stir in cubed paneer or tofu, raisins, and sliced almonds. Allow to simmer for another 2-3 minutes.\", \"Serve over white or jasmine rice. Garnish with extra raisins and almonds.\"                        |\n",
      "|        |                                                 |                                                                                                                                                                                                                                                                                            )                                                                                                                                                                                                                                                                                            |\n",
      "| 224234 | Paneer Achariya ( Pickle Style Paneer Stir Fry) |      c(\"Heat oil and rotate it in pan.\", \"Add mustard seeds and onion seeds on slow heat.\", \"Add red chilly powder, turmeric, kasoori methi,  garam masala.  Mix well.  Add a tsp of water to prevent it from burning or sticking in the pan.\", \"Add panner; cook for a minute.  Add capsicum and again cook for a minute.\", \"Add coriander powder, mango powder, salt, and sugar.  Mix well and cook for another minute.\", \"Add tomato strips, roasted cumin, and fennel, mix well until sides of pan leave oil (about a minute or --don't overcook or paneer will turn hard).\",       |\n",
      "|        |                                                 |                                                                                                                                                                                                                                                                         \"Serve hot with paranthas and raita.\")                                                                                                                                                                                                                                                                          |\n",
      "| 324472 |                  Paneer Masala                  |                                                                                                                                                                                                         c(\"fry onions in the oil until golden brown.\", \"add the ginger -garlic paste, tomato paste, capsicum , salt redchilli powder ,all spice .\", \"finally add panir cubes.\")                                                                                                                                                                                                         |\n",
      "| 131076 |                Hot Chilli Paneer                |                c(\"Dry-fry the dried chilies in a pan for a couple of minutes over a medium heat.\", \"Add coriander seeds and turmeric and grind for a further minute.\", \"Grind spices and dried chilies to a fine powder.\", \"Fry the onion in oil until browned.\", \"Add green chilies and fry until soft.\", \"Stir in ground spices and fry for another minute.\", \"Add tomato and stir until everything is well blended.\", \"Stir in Paneer and fry in spice paste, stirring until well coated - for about 2-3 minutes.\", \"Garnish with coriander and serve with chapatti.\"                |\n",
      "|        |                                                 |                                                                                                                                                                                                                                                                                            )                                                                                                                                                                                                                                                                                            |\n",
      "| 491316 |                 Paneer Egg Roll                 |       c(\"Step 1: Take a bowl combined corn flour, refined flour, egg, salt and required water to make thin batter. Whisk well and Keep aside.\", \"Step 2: Take another bowl and add paneer, oats, black pepper, spring onion red chili and salt. Mix well and set it side.\", \"Step 3: Heat little bit oil in pan and pour egg batter in to thin sheets. Remove immediately from the pan and put over a plastic paper. Repeat same with the remaining egg batter. Now take enough paneer mixture to fill in to egg sheets and roll it carefully from all sides like spring rolls\",        |\n",
      "|        |                                                 |                                                                                                                                                                                                                  \"Step 4: Heat oil in a deep pan and fry the rolls from both sides over a medium flame till the golden brown. Drain on an absorbent paper and serve.\")                                                                                                                                                                                                                  |\n",
      "| 123545 |                 Fat Free Paneer                 |                                                                                                                                                                            c(\"Bring milk and vinegar to a boil.\", \"When curds and whey separate cover and leave for 5 minutes.\", \"Strain solid from liquids.\", \"Leave with weight on top wrapped in a cloth for half an hour.\", \"Cut into cubes.\", \"Enjoy.\")                                                                                                                                                                            |\n",
      "| 503174 |           Indian Paalak Panner Gravy            | c(\"Add some water in a container and put the spinach, garlic pods, cloves and ginger into it. Cover and heat for 5-6 minutes. Don't boil.\", \"Strain the excess water and keep that water aside. Blend the remaining ingredients into a smooth paste.\", \"Cut the panir into cube shapes and shallow fry in the refined oil till they turn golden brown.\", \"After they have turned golden brown and the surface slightly crunchy, remove from the oil and put them in the lukewarm water.\", \"Now for the gravy part , in a pan add butter and melt it. Then put in the green chillies.\",  |\n",
      "|        |                                                 |                             \"After some time put in the blended spinach mixture and stir. Add salt, Garam Masala powder and mango powder and keep stirring.\", \"Once it starts drying slightly, pour in the fresh cream and stir. Depending on how thick you like your gravy, you can add some of the remaining water used for boiling the spinach if its too thick.\", \"Now put in the Paneer pieces into the gravy and stir constantly until its nice and consistent.\", \"For serving, take it out in a bowl and put a little bit of fresh cream over it.\",                              |\n",
      "|        |                                                 |                                                                                                                                                                                                                                                       \"Serve hot with Roti / Naan / Parantha / Any other bread of your choice.\")                                                                                                                                                                                                                                                        |\n",
      "| 185816 |                 Paneer Makmali                  |                                                                                                                                              c(\"Pierce paneer pcs with fork\", \"Marinate them in paste made for at least 15-20 minute.\", \"Heat the butter in oil and saute onions until translucent.\", \"Add marinated paneer and saute for 7-10 minute\", \"Add the milk and simmer until milk evaporates. Sprinkle garam masala and serve.\")                                                                                                                                              |\n",
      "| 285935 | The Perfect N Easy Indian Curry Sauce (Makhani) |      c(\"Heat oil and butter together in a nonstick pan and add the cloves, cardamom, bay leaf and cinnamon.\", \"When they are heated through add the ginger, garlic and green chilli and keep stirring till they turn pink.\", \"Now add the tomato paste and let cook. You may add a little water if the sauce seems to be too thick.\", \"When the tomato paste starts to bubble add the red chilli powder, Garam masala Powder, turmeric powder, sugar/honey and salt.\", \"After about 2-3 minutes add the garam masala powder and fenugreek leaves' powder. Check for seasoning.\",        |\n",
      "|        |                                                 |                                                                                                                                                                                                                                                                             \"Finish off with fresh cream.\")                                                                                                                                                                                                                                                                             |\n",
      "| 324466 |                  Paalak Paneer                  |                                                                                                                                                          c(\"boil spinach , dal , chillies and ginger paste together.\", \"remove from fire and grind them well .fry onions in oil until golden brown .add tomotoes to it .add this to the grounded spinach paste.squeeze lemon juice to it .make cubes of panir and add to it.\")                                                                                                                                                          |\n",
      "+--------+-------------------------------------------------+-----------------------------------------------------------------------------------------------------------------------------------------------------------------------------------------------------------------------------------------------------------------------------------------------------------------------------------------------------------------------------------------------------------------------------------------------------------------------------------------------------------------------------------------------------------------------------------------+\n"
     ]
    }
   ],
   "source": [
    "query = \"Paneer\"\n",
    "results = search_recipes(query)\n",
    "results"
   ]
  },
  {
   "cell_type": "code",
   "execution_count": 24,
   "id": "ddd17d08-085a-496e-acc7-4b07c353d41e",
   "metadata": {},
   "outputs": [
    {
     "name": "stdout",
     "output_type": "stream",
     "text": [
      "+--------+--------------------------------------------------------------+-----------------------------------------------------------------------------------------------------------------------------------------------------------------------------------------------------------------------------------------------------------------------------------------------------------------------------------------------------------------------------------------------------------------------------------------------------------------------------------------------------------------------------------------------------------------------------------------------------------------------------------------------------------------------------------+\n",
      "|        |                             Name                             |                                                                                                                                                                                                                                                                                                                                RecipeInstructions                                                                                                                                                                                                                                                                                                                                 |\n",
      "+--------+--------------------------------------------------------------+-----------------------------------------------------------------------------------------------------------------------------------------------------------------------------------------------------------------------------------------------------------------------------------------------------------------------------------------------------------------------------------------------------------------------------------------------------------------------------------------------------------------------------------------------------------------------------------------------------------------------------------------------------------------------------------+\n",
      "|  6599  |                         Fried Bhindi                         |                                                               c(\"Place the cut okra in a single layer on a microwave-safe plate and cook on'high' uncovered for 4 minutes.\", \"If necessary cook the okra in two or three lots.\", \"No salt is to be added now.\", \"This will ensure that the okra is cooked, but without stickiness, and the bright green colour is maintained.\", \"Next, heat the 2 tsp oil in a kadai, and fry the mustard, urad dal and ajwain, add the cooked bhindi/ okra pieces, add turmeric, hing, salt, chilli powders and fry for a couple of minutes till the masalas are well absorbed.\",                                                                |\n",
      "|        |                                                              |                                                                                                                                                                                  \"Your dry bhindi sabji is ready and looks green and appetising.\", \"It is a great favourite with our family.\", \"Note: If using bhindi from the cold storage, instead of microwaving the pieces, cook it for 10 minutes in the baking oven without salt, till it is dry, then follow the second step as above.\")                                                                                                                                                                                   |\n",
      "|  6460  |                    Punjabi Bhindi Masala                     | c(\"Clean the bhindi with a moist cloth.\", \"Cut bhindi in about 1\\\" pieces.\", \"Make a slit in each of the pieces so the masala gets applied.\", \"Heat oil in kadai, add jeera seeds.\", \"Then add the cut onion and fry for some time till they become golden brown.\", \"Then add the tomato pieces and let them cook.\", \"Add ginger paste and coriander powder and fry for a minute.\", \"Add turmeric powder, red chilli powder, mix it.\", \"This should become homogeneous mixture which leaves out the oil.\", \"Add the okra pieces to the mixture and apply the masala properly and let it cook on medium flame while stirring in between so that it does not stick to the kadai.\",  |\n",
      "|        |                                                              |                                                                                                                                                                                                                                                                                                    \"This may take 10 minutes.\", \"Add salt and garnish with coriander leaves.\")                                                                                                                                                                                                                                                                                                    |\n",
      "| 253688 |          Okra/Bhindi Masala (Indian-Punjabi Style)           |                                                          c(\"Dice the onions .\", \"Dice the tomotoes.\", \"Chop the chillies and corainder.\", \"Slice Bhindi ( Okra) in long pieces.\", \"Heat the oil in pan and add the Bhindi pieces. Shallow Fry them. ( If you wish you can also deep fry the bhindi pieces).\", \"Keep the fried bhindi aside.\", \"Heat 3 spoons of oil in a pan. Add the Bay leaves and cloves.\", \"After a minute add onions and fry them until light brown.\", \"Add the chopped green chilli pieces .\", \"Add the ginger-garlic paste and fry for one minute.\", \"Add Garam masala and fry for 2 minutes.\",                                                            |\n",
      "|        |                                                              |                                                                                                                                              \"Add tomato pieces, red chilli powder and salt, cover the pan and cook for a few minutes until tomatoes become soft. Stir carefully if needed to avoid the mixture from sticking to the pan.\", \"Add fried okra and mix slowly. Keep on heat for two more minutes and then remove the pan.\", \"Sprinkle some more garam masala on top .\", \"Garnish with coriander leaves and serve hot.\")                                                                                                                                              |\n",
      "|  6905  |                       Dahiwali bhindi                        |                                                  c(\"MIX all the masala ingredients in a bowl and stuff the slit bhindi with this mixture.\", \"Heat oil in a kadai, add the onions and sauté over low heat until translucent and glossy.\", \"Then add the chilli powder and turmeric powder mixed in a little water.\", \"Stir-fry until the water evaporates.\", \"Add the stuffed bhindi (do not stir with a ladle at this point).\", \"Cover and cook over medium heat for about 10 minutes.\", \"Remove the kadai from the fire and stir in the yoghurt and salt.\", \"Return the kadai to the fire and cook for four to five minutes.\",                                                   |\n",
      "|        |                                                              |                                                                                                                                                                                                                                                                                          \"Remove and check if the bhindi is cooked.\", \"Garnish with juliennes of ginger and serve hot.\")                                                                                                                                                                                                                                                                                          |\n",
      "| 484689 |                         Bhindi Bhaji                         |             c(\"Wash bhindi in water and dry it using cloth or paper napkin. If possible, complete this process 2-3 hours prior to cooking. Remove head and tail and chop it into 1/3-inch thick round circles.Heat oil in a non-stick pan or heavy based kadai over medium flame. Add cumin seeds and when they begin to crackle, add chopped garlic. Sauté for 30 seconds.Add chopped bhindi and mix well.\", \"Cook on medium-low flame until bhindi turns dark green and shrinks. It will take approximately 6-8 minutes. Stir in between occasionally.Add chopped tomatoes, turmeric powder and salt; cook until tomatoes turn tender, approximately 2 minutes.\",               |\n",
      "|        |                                                              |                                                                                                                                                                                                           \"Add red chilli powder, garam masala powder and coriander powder; mix well.    Cook for a minute over low flame and turn off the flame.\", \"Transfer prepared bhindi bhaji to a serving bowl. Garnish with coriander leaves and serve with roti or paratha.\")                                                                                                                                                                                                            |\n",
      "|  6279  |                      Masala bhindi Fry                       |                                                                  c(\"Wash the bhindi; clean it with a dry cloth till its totally dry.\", \"Give strokes (don't cut) lengthwise and keep aside.\", \"Fry ingredients#2 to#6 in a pan in a 1/2 spoon of oil.\", \"Grind everything except bhindi, of course.\", \"(Masala's ready!) Stuff the masala carefully in the bhindi, make sure they don't split into two pieces.\", \"Fry them in a pan with a spoon of oil (not much of it).\", \"Simmer the gas.\", \"Put the lid and cook for 5 minutes till bhindi is tender.\", \"Take off the lid and fry till brown and crispy.\",                                                                    |\n",
      "|        |                                                              |                                                                                                                                                                                                                                                                                                                         \"Garnish with coriander leaves.\")                                                                                                                                                                                                                                                                                                                         |\n",
      "| 520963 | Ustad's Alu Bhindi - a Spicy and Tangy Version of Ladyfinger |                                             c(\"1. Chop the ends off the ladyfinger.\", \"2. Peel and wash the potatoes and then chop them lengthwise and a bit thick meaning into medium-sized pieces.\", \"3. Heat oil in a wok.\", \"4. Deep fry the ladyfinger in the hot oil until it is crispy. Drain on clean kitchen paper towels. Keep aside.\", \"5. Deep fry the potatoes again in hot oil.\", \"6. Now prepare the spice mixture (masala) for this dish.\", \"7. In a bowl take red chilli powder, chat masala powder, dry mango powder, pao bhaji masala powder, salt to taste, a pinch of garam masala powder and mix thoroughly.\",                                              |\n",
      "|        |                                                              |                                                                                                                                                                                                                                                   \"8. Transfer the ladyfinger and potatoes to a dish.\", \"9. Sprinkle the prepared spice mixture on the ladyfinger and potatoes.\", \"10, Mix well using a spoon and serve hot.\")                                                                                                                                                                                                                                                    |\n",
      "| 414184 |                  Strawberry Summer Delight                   |                                c(\"Beat mascarpone cheese and sweetened condensed milk until well combined.  Reserve.\", \"Whip cream in a large bowl until it holds stiff peaks.  Add orange zest and vanilla.  Gently fold in the reserved mascarpone mixture until combined.  Fold in sliced strawberries.\", \"Dip both sides of each ladyfinger cookie into orange juice.  Line bottom of 9x13-inch baking dish with 18 ladyfinger cookies in 3 rows, trimming edges if necessary.  Spread half the filling (3 cups) on top.  Dip remaining ladyfinger cookies in orange juice and arrange over filling in pan.  Spread with remaining filling.\",                                 |\n",
      "|        |                                                              |                                                                                                                                                                                                                                                                                 \"Chill, covered with plastic wrap at least 4 hours or overnight.\", \"Serve with additional sliced strawberries.\")                                                                                                                                                                                                                                                                                  |\n",
      "| 180087 |                      Simple Fried Okra                       |                                                                               c(\"Slightly beat egg with fork in medium-sized bowl.\", \"Pour okra into bowl and mix until coated well with egg.\", \"Add flour and mix well.\", \"Preheat skillet on medium-high until hot then add enough oil to coat bottom of pan.\", \"Shake off excess flour from okra then carefully add to skillet. Flip over okra every few minutes, watching carefully so it does not burn on the bottom.\", \"When golden brown, drain okra on paper towels. Immediately sprinkle with salt and freshly-ground pepper.\", \"Enjoy!\")                                                                                |\n",
      "| 115150 |                       Oven Fried Okra                        |                                         c(\"In a large pot 3/4 full of boiling,salted water,parboil okra until tender, about 5 minutes. Drain well.\", \"Preheat oven to 450 degrees.\", \"In a large bowl, beat together egg, 1 Tablespoon of water, and pepper sauce. Add okra to bowl.\", \"In a plastic food storage bag, combine bread crumbs,pepper, and salt.\", \"Using a slotted spoon,remove okra from egg mixture, allowing excess egg mixture to drip back into bowl.\", \"Add okra to crumb mixture in bag and rotate bag to coat okra evenly.\", \"On a nonstick baking sheet or large, shallow pan, spread okra in  a single layer.\",                                           |\n",
      "|        |                                                              |                                                                                                                                                                                                                                                                                        \"Spray okra with nonstick cooking spray.\", \"Bake until crisp and golden brown, about 12 minutes.\")                                                                                                                                                                                                                                                                                         |\n",
      "+--------+--------------------------------------------------------------+-----------------------------------------------------------------------------------------------------------------------------------------------------------------------------------------------------------------------------------------------------------------------------------------------------------------------------------------------------------------------------------------------------------------------------------------------------------------------------------------------------------------------------------------------------------------------------------------------------------------------------------------------------------------------------------+\n"
     ]
    }
   ],
   "source": [
    "query = \"okra bhindi ladyfinger\"\n",
    "results = search_recipes(query)\n",
    "results"
   ]
  }
 ],
 "metadata": {
  "kernelspec": {
   "display_name": "Python 3",
   "language": "python",
   "name": "python3"
  },
  "language_info": {
   "codemirror_mode": {
    "name": "ipython",
    "version": 3
   },
   "file_extension": ".py",
   "mimetype": "text/x-python",
   "name": "python",
   "nbconvert_exporter": "python",
   "pygments_lexer": "ipython3",
   "version": "3.10.10"
  }
 },
 "nbformat": 4,
 "nbformat_minor": 5
}
